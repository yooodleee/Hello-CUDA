{
 "cells": [
  {
   "cell_type": "markdown",
   "metadata": {},
   "source": [
    "## **CHAPTER 02. CUDA 개요**"
   ]
  },
  {
   "cell_type": "markdown",
   "metadata": {},
   "source": [
    "### **2.1. CUDA 소개**\n",
    "---"
   ]
  },
  {
   "cell_type": "markdown",
   "metadata": {},
   "source": [
    "Compute Unified Device Architecture의 약자인 CUDA는 GPU 제조사 중 하나인 엔디비아에서 GPU를 GPGPU 목적으로 사용할 수 있게 제공하는 프로그래밍 인터페이스다.\n",
    "CUDA는 기본적으로 C/C++의 확장 언어로 포트란, 자바, 파이썬 등의 언어에서도 CUDA로 작성된 모듈을 호출해서 사용할 수 잇다.\n",
    "하지만 CUDA를 통해 GPU를 직접 제어하기 위해서는 CUDA C/C++로 코드를 작성해야 한다."
   ]
  },
  {
   "cell_type": "markdown",
   "metadata": {},
   "source": [
    "CUDA는 엔디비아에서 개발하였기 때문에 기본적으로 엔디비아의 GPU에서만 사용 가능하며, 다른 회사의 제품에는 사용할 수 없다.\n",
    "다른 회사의 GPU를 GPGPU 용도로 활용하려면 쉐이딩 언어(shading language) 및 OpenCL 등과 같은 개방형 API를 사용해야 한다.\n",
    "이러한 개방향 API는 엔디비아의 GPU에도 적용할 수 있지만, 엔디비아 GPU는 CUDA를 사용하는 경우가 일반적으로 더 높은 성능을 보여준다.\n",
    "또한 CUDA는 엔비디아 GPU가 제공하는 더 많은 기능을 활용할 수 있다는 장점이 있다."
   ]
  },
  {
   "cell_type": "markdown",
   "metadata": {},
   "source": [
    "#### **2.1.1. 드라이버 API와 런타임 API**"
   ]
  },
  {
   "cell_type": "markdown",
   "metadata": {},
   "source": [
    "CUDA는 드라이버 API와 런타임 API라는 두 가지의 API를 제공한다.\n",
    "두 API는 하나의 프로그램에서 병행 사용도 가능하다.\n",
    "드라이버 API는 더 세밀한 저수준 제어 기능을 제공한다.\n",
    "그러나 런타임 API도 대부분의 제어 기능을 제공하며 드라이버 API 대비 사용이 가능하기 때문에, 대부분의 응용 프로그램들은 런타임 API를 통해서 작성되는 편이다."
   ]
  },
  {
   "cell_type": "markdown",
   "metadata": {},
   "source": [
    "하지만 세부 제어를 통한 성능 극대화 등 특수한 경우 드라이버 API 사용이 필요한 일이 있을 수 있으니, 드라이버 API와 런타임 API의 차이점을 간단히 살펴보자.\n",
    "드라이버 API는 CUDA 문맥(context) 및 모듈(module) 로드 등에 대한 더 세밀한 제어 기능을 제공한다.\n",
    "세밀한 제어를 지원하는 만큼 CUDA 커널(kernel) 실행을 위한 구현 방법이 런타임 API에 비해 복잡하다.\n",
    "예컨대, 실행 구성 및 커널 매개 변수 설정을 함수 호출을 통해 명시적으로 지정해야 한다.\n",
    "런타임 API에서는 이러한 설정으로 자동으로 해주지만, 프로그램에 포함된 모든 커널이 프로그램 시작과 함께 초기화 및 로드되고 프로그램이 종료될 때까지 유지된다.\n",
    "반면 드라이버 API를 사용하면 해당 커널이 필요할 때만 동적으로 로드해서 사용할 수 있다.\n",
    "또한 드라이버 API는 언어에 비종속적으로, 코드를 컴파일한 cubin(CUDA binary) 오브젝트 파일을 통해 다양한 언어에서 해당 모듈을 사용할 수 있다."
   ]
  },
  {
   "cell_type": "markdown",
   "metadata": {},
   "source": [
    "정리하면, 대부분의 경우 런타임 API를 통해 CUDA 코드를 작성한다.\n",
    "하지만 사용 가능한 자원이 제한적일 경우 또는 작성한 CUDA 모듈을 다양한 프로그래밍 언어에서 사용하고 싶은 경우 등에는 드라이버 API를 사용하는 편이 나을 수 있다."
   ]
  },
  {
   "cell_type": "markdown",
   "metadata": {},
   "source": [
    "#### 2.1.2. CUDA 사용 가능 GPU**"
   ]
  }
 ],
 "metadata": {
  "language_info": {
   "name": "python"
  }
 },
 "nbformat": 4,
 "nbformat_minor": 2
}
